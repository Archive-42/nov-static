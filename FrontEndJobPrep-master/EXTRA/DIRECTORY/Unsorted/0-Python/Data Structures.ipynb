{
 "cells": [
  {
   "cell_type": "markdown",
   "metadata": {},
   "source": [
    "#### Author: Omkar Pathak"
   ]
  },
  {
   "cell_type": "markdown",
   "metadata": {},
   "source": [
    "# Data Structures"
   ]
  },
  {
   "cell_type": "markdown",
   "metadata": {},
   "source": [
    "Data structure is a particular way of storing and organizing data in a computer so that it can be used efficiently.\n",
    "\n",
    "General data structures include Arrays, files, linked lists, stacks, queues, trees, graphs and so on.\n",
    "\n",
    "Data structures, depending upon their organization are mainly classified into two types:\n",
    "\n",
    "#### Linear Data Structures:\n",
    "\n",
    "Elements are accessed in 'Linear'/ Sequential order but it is not compubory to store all elements sequentially.\n",
    "Examples: Linked Lists, Stacks alld Queues.\n",
    "\n",
    "#### Non-linear Data Structures:\n",
    "\n",
    "Elements of this data structure arc stored /accessed in a non-linear order.\n",
    "Examples: Trees and graphs."
   ]
  },
  {
   "cell_type": "markdown",
   "metadata": {
    "collapsed": true
   },
   "source": [
    "## Abstract Data Type (ADT)"
   ]
  },
  {
   "cell_type": "markdown",
   "metadata": {},
   "source": [
    "Abstract Data Type(ADT) is a data type, where only behavior is defined but not implementation.\n",
    "\n",
    "A data type can be considered abstract when it is defined in terms of operations on it, and its implementation is hidden (so that we can always replace one implementation with another for, e.g., efficiency reasons, and this will not interfere with anything in the program).\n",
    "\n",
    "An abstract data type or ADT (sometimes called an abstract data type) is a mathematical model of a data structure. It describes a container which holds a finite number of objects where the objects may be associated through a given binary relationship."
   ]
  },
  {
   "cell_type": "markdown",
   "metadata": {},
   "source": [
    "Commonly used ADTs include: Linked Lists, Stacks, Queues, Priority Queues, Binary Trees, Dic tionaries,\n",
    "Disjoint Sets (Union a nd Find), Hash Tables, Grap hs, and many othe rs."
   ]
  },
  {
   "cell_type": "markdown",
   "metadata": {},
   "source": [
    "## Recursion"
   ]
  },
  {
   "cell_type": "markdown",
   "metadata": {},
   "source": [
    "Any function which calls ilself is called recursive. A recursive method solves a problem by calling a copy of itself to work on a smaller problem. This is called the recursion step. The recursion step can result in many more\n",
    "such recursive calls.\n",
    "\n",
    "It is important to ensure that the recursion terminates. Each time the function calls itself with a slightly simpler version of the original problem. The sequence of smaller problems must eventually converge on the base case."
   ]
  },
  {
   "cell_type": "code",
   "execution_count": null,
   "metadata": {
    "collapsed": true
   },
   "outputs": [],
   "source": []
  }
 ],
 "metadata": {
  "kernelspec": {
   "display_name": "Python 3",
   "language": "python",
   "name": "python3"
  },
  "language_info": {
   "codemirror_mode": {
    "name": "ipython",
    "version": 3
   },
   "file_extension": ".py",
   "mimetype": "text/x-python",
   "name": "python",
   "nbconvert_exporter": "python",
   "pygments_lexer": "ipython3",
   "version": "3.5.2"
  }
 },
 "nbformat": 4,
 "nbformat_minor": 2
}
